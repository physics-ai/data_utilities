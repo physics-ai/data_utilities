{
 "metadata": {
  "language_info": {
   "codemirror_mode": {
    "name": "ipython",
    "version": 3
   },
   "file_extension": ".py",
   "mimetype": "text/x-python",
   "name": "python",
   "nbconvert_exporter": "python",
   "pygments_lexer": "ipython3",
   "version": "3.5.2-final"
  },
  "orig_nbformat": 2,
  "kernelspec": {
   "name": "python35264bitvenvxviewdatautilitiesvenv45e743a9144e4fb1b4447d0a50955977",
   "display_name": "Python 3.5.2 64-bit ('venv_xview_data_utilities': venv)"
  }
 },
 "nbformat": 4,
 "nbformat_minor": 2,
 "cells": [
  {
   "cell_type": "code",
   "execution_count": 8,
   "metadata": {},
   "outputs": [],
   "source": [
    "import aug_util as aug\n",
    "import wv_util as wv\n",
    "import matplotlib.pyplot as plt\n",
    "import numpy as np\n",
    "import csv\n",
    "%matplotlib inline\n",
    "\n",
    "# added\n",
    "import glob\n",
    "from process_wv import get_images_from_filename_array\n",
    "import tqdm"
   ]
  },
  {
   "cell_type": "code",
   "execution_count": 39,
   "metadata": {},
   "outputs": [
    {
     "output_type": "stream",
     "name": "stderr",
     "text": [
      "100%|██████████| 601937/601937 [00:02<00:00, 244669.75it/s]\n"
     ]
    }
   ],
   "source": [
    "#Loading our labels\n",
    "coords, chips, classes = wv.get_labels('../../data/xview/xView_train.geojson')\n"
   ]
  },
  {
   "cell_type": "code",
   "execution_count": 40,
   "metadata": {},
   "outputs": [],
   "source": [
    "# Mini folderpath: \n",
    "mini_img_folderpath = '../../data/xview/temp_mini_train/'\n",
    "\n",
    "# example chip name\n",
    "chip_name = '80.tif'\n",
    "\n",
    "#We only want to coordinates and classes that are within our chip\n",
    "img_coords = coords[chips==chip_name]\n",
    "img_classes = classes[chips==chip_name].astype(np.int64)"
   ]
  },
  {
   "cell_type": "code",
   "execution_count": 41,
   "metadata": {},
   "outputs": [],
   "source": [
    "#Load the class number -> class string label map\n",
    "labels = {}\n",
    "with open('xview_class_labels.txt') as f:\n",
    "    for row in csv.reader(f):\n",
    "        labels[int(row[0].split(\":\")[0])] = row[0].split(\":\")[1]"
   ]
  },
  {
   "cell_type": "code",
   "execution_count": 42,
   "metadata": {},
   "outputs": [
    {
     "output_type": "stream",
     "name": "stdout",
     "text": [
      "['Cargo Plane', 'Passenger Vehicle', 'Small Car', 'Bus', 'Truck', 'Engineering Vehicle', 'Front loader/Bulldozer', 'Building', 'Facility', 'Vehicle Lot', 'Helipad', 'Pylon']\n"
     ]
    }
   ],
   "source": [
    "#We can find which classes are present in this image\n",
    "print([labels[i] for i in np.unique(img_classes)])"
   ]
  },
  {
   "cell_type": "code",
   "execution_count": null,
   "metadata": {},
   "outputs": [],
   "source": []
  },
  {
   "cell_type": "code",
   "execution_count": 43,
   "metadata": {},
   "outputs": [
    {
     "output_type": "stream",
     "name": "stdout",
     "text": [
      "['../../data/xview/temp_mini_train/8.tif', '../../data/xview/temp_mini_train/88.tif', '../../data/xview/temp_mini_train/86.tif', '../../data/xview/temp_mini_train/80.tif', '../../data/xview/temp_mini_train/5.tif']\n<class 'list'>\n"
     ]
    }
   ],
   "source": [
    "\n",
    "\n",
    "#get_images_from_filename_array(coords=coords, chips=chips, classes=classes,folder_names=mini_img_folderpath, res=(256,256))\n",
    "\n",
    "filenames = glob.glob(mini_img_folderpath + \"*.tif\")\n",
    "\n",
    "print(filenames)\n",
    "print(type(filenames))"
   ]
  },
  {
   "cell_type": "code",
   "execution_count": 46,
   "metadata": {},
   "outputs": [
    {
     "output_type": "stream",
     "name": "stderr",
     "text": [
      "100%|██████████| 5/5 [00:00<00:00, 25.84it/s]8.tif\n",
      "[73 73 18 18 18 21 73 73 73 73 83 19 73 73 73 71 86 86 21 60 18 18 18 18\n",
      " 18 18 18 18 18 18 18 18 18 18 27 18 18 18 18 18 18 18 18 18 18 18 18 21\n",
      " 18 18 18 18 18 18 18 18 21 18 18 18]\n",
      "88.tif\n",
      "[73 84 84 84 84 84 84 84 84 84 84 84 84 84 84 84 84 13 73 73 73 73 73 25\n",
      " 23 23 23 23 23 73 73 73 73 73 73 73 73 73 73 73 73 73 73 73 73 73 73 73\n",
      " 73 73 73 73 73 73 73 73 73 73 18 18 73 73 18 18 73 18 83 18 18 18 18 73\n",
      " 73 73 73 24 24 19 19 19 19 19 19 19 19 19 19 19 19 19 19 19 19 19 19 19\n",
      " 19 19 19 19 19 19 19 19 19 19 19 19 19 19 19 19 19 19 19 19 19 19 19 19\n",
      " 19 19 19 19 19 19 19 19 19 19 19 19 19 17 18 18 18 18 18 18 18 18 18 18\n",
      " 18 18 18 18 18 18 18 18 18 18 18 18 18 18 18 18 18 18 18 18 18 18 18 18\n",
      " 18 18 18 18 18 18 18 18 18 18 18 18 18 18 18 18 18 18 18 18 18 18 18 18\n",
      " 18 18 18 18 18 18 18 18 18 18 18 18 18 18 18 18 18 18 18 18 18 18 18 18\n",
      " 18 18 18 18 18 18 18 18 18 18 18 73 73 25 24 25 25 25 25 73 27 27 23 23\n",
      " 23 23 73 73 73 73 73 73 23 23 64 23 23 24 23 73 73 73 60 60 23 60 60 60\n",
      " 23 23 23 18 18 18 18 18 18 18 18 18 18 18 18 18 18 18 18 18 18 18 17 18\n",
      " 18 18 18 18 18 18 18 18 18 18 18 18 18 18 18 18 18 18 18 18 18 18 18 18\n",
      " 73 60 73 23 23 23 73 73 18 18 18 73 73 18 18 73 73 18 73 73 73 18 18 73\n",
      " 73 73 73 18 63 63 18 73 73 73 73 73 73 73 18 18 18 73 73 73 73 73 73 73\n",
      " 73 73 73 73 73 73 73 73 73 73 73 73 11 25 25 73 73 73 73 73 73 73 73 73\n",
      " 73 73 73 18 18 18 73 73 73 73 73 73 73 73 73 84 84 73 18 18 18 18 18 18\n",
      " 18 18 18 18 18 18 18 18 18 18 18 18 23 23 23 18 23 23 23 23 23 23 23 18\n",
      " 23 23 91 27 27 73 73 23 23 23 23 23 23 23 23 23 23 73 18 18 73 73 73 73\n",
      " 73 73 73 73 73 18 18 73 73 73 73 73 18 73 73 73 73 73 23 89 23 23 83 83\n",
      " 83 77 73 23 73 73 18 73 73 23 18 63 63 63 63]\n",
      "86.tif\n",
      "[77 13 13 13 13 12 18 73 73 73 73 18 18 18 18 77 18 18 18 77 19 74 18 18\n",
      " 18 18 18 73 53 18 25 18 53 73 32 23 18 19 23 18 18 73 73 21 18 18 18 23\n",
      " 23 23 23 23 21 19 11 19 64 63]\n",
      "80.tif\n",
      "[13 73 13 13 13 13 18 18 18 18 18 18 18 18 18 18 18 18 18 18 18 18 18 18\n",
      " 18 18 18 18 18 18 18 18 18 18 18 18 18 18 18 18 18 18 18 18 23 18 18 18\n",
      " 18 18 18 18 18 18 18 83 83 83 83 83 83 83 73 73 18 84 73 19 19 19 19 18\n",
      " 18 18 18 18 19 17 17 19 53 53 63 77 23 18 73 93 93 63]\n",
      "5.tif\n",
      "[73 21 73 73 73 18 73 49 86 86 86 86 86 86 86 86 86 86 86 86 73 73 73 73\n",
      " 89 89 89 89 89 89 89 89 89 89 91 91 91 89 73 73 73 73 73 73 73 73 73 18\n",
      " 18 18 18 18 18 18 18 18 18 18 18 18 18 18 18 18 20 20 18 18 23 18 18 18\n",
      " 18 18 18 18 18 18 18 18 18 18 18 18 18 18 18 18 18 18 18 18 21 21 21 21\n",
      " 21 21 21 18 18 18 18 18 21 18 18 18 18 18 18 18 18 18 18 89 89 89 89 89\n",
      " 89 89 89 89 89 89 89 89 89 89 89 89 89 89 91 91 91 89 89 89 89 91 91 89\n",
      " 89 89 89 89 89 89 89 91 91 89 89 89 89 89 91 89 89 89 91 91 89 89 73 73\n",
      " 86 86 73 89 91 91 91 91 91 59 91 91 89 27 73 73 73 73 73 73 73 73 18 18\n",
      " 18 20 91 89 89 89 89 91 91 91 91 91 91 91 91 91 91 91 91 89 91 89 89 89\n",
      " 91 89 91 91 91 89 89 91 91 91 91 89 89 91 55 55 18 91 18 91 73 73 73 73\n",
      " 73 57 73 73 73 18 21 21 18 18 18 73 73 73 73 86 86 86 73 29 73 73 73 25\n",
      " 25 29 29 25 29 25 29 25 29 29 29 29 25 25 25 25 25 25 25 25 25 25 25 60\n",
      " 60 60 60 73 73 73 73 73 25 24 25 89 89 89 18 73 89 89 73 89 89 18 18 18\n",
      " 73 18 18 19 25 18 73 18 18 18 18 18 18 18 18 91 91 91 91 91 89 26 24 28\n",
      " 73 73 18 73 73 23 18 23 73 73 73 73 73 25 89 91 73 73 91 27 91 27 89 27\n",
      " 27 27 27 27 91 28 23 24 26 73 73 73 89 18 89 91 91 91 23 89 89 89 91 91\n",
      " 91 91 89 91 18 91 91 23 89 91 23 91 26 73 18 73 86 86 86 86 86 73 73 73\n",
      " 73 73 73 73 73 73 73 73 73 73 73 27 27 73 73 73 73 73 73 27 27 27 89 91\n",
      " 18 73 73 73 73 73 73 91 57 57 57 27 89 91 89 91 91 91 91 91 91 91 91 89\n",
      " 32 89 91 89 89 89 89 89 89 89 91 91 91 91 91 91 91 91 91 73 91 73 73 57\n",
      " 57 91 91 89 91 91 91 57 57 89 91 91 91 89 89 91 55 55 73 91 91 73 73 73\n",
      " 73 73 18 23 18 73 73 25 25 23 23 23 91 18 91 18 73 77 73 73 18 18 18 73\n",
      " 73 73 23 18 18 18 18 18 73 73 73 73 73 91 73 73 18 18 18 18 18 18 23 18\n",
      " 18 18 18 18 18 23 18 26 26 73 73 18 18 25 26 91 18 18 18 19 19 18 18 18\n",
      " 23 23 18 18 18 18 18 19 18 73 18 18 73 18 18 73 73 73 73 18 18 23 73 18\n",
      " 18 18 18 18 18 18 18 18 18 18 21 18 73 26 89 91 73 73 18 56 18 73 73 73\n",
      " 73 73 19 73 73 73 73 18 18 18 18 18 18 18 18 23 18 18 18 18 18 18 60 21\n",
      " 21 18 21 18 21 21 18 20 23 18 18 18 18 18 21 18 18 18 20 21 18 21 24 18\n",
      " 18 18 18 18 73 73 73 18 18 18 18 18 18 18 73 73 73 73 18 18 18 18 73 23\n",
      " 18 18 18 18 18 18 18 18 18 18 18 18 21 18 21 21 23 18 73 73 89 91 91 56\n",
      " 56 56 56 73 73 73 73 73 73 73 73 73 73 73 73 73 73 73 73 73 73 73 73 73\n",
      " 73 73 73 73 73 73 73 73 73 73 73 73 73 73 73 73 73 73 73 73 73 73 73 73\n",
      " 21 73 73 73 73 73 73 73 73 73 73 73 73 73 73 73 89 91 73 89 18 73 91 73\n",
      " 73 73 73 73 41 41 41 32 56 53]\n",
      "\n"
     ]
    }
   ],
   "source": [
    "airplane_idxs = [11,12,13]\n",
    "\n",
    "for fname in tqdm.tqdm(filenames):\n",
    "    name = fname.split(\"/\")[-1]\n",
    "    print(name)\n",
    "\n",
    "    img_classes = classes[chips==name].astype(np.int64)\n",
    "    print(img_classes)"
   ]
  },
  {
   "cell_type": "code",
   "execution_count": 38,
   "metadata": {},
   "outputs": [
    {
     "output_type": "execute_result",
     "data": {
      "text/plain": [
       "array([13, 73, 13, 13, 13, 13, 18, 18, 18, 18, 18, 18, 18, 18, 18, 18, 18,\n",
       "       18, 18, 18, 18, 18, 18, 18, 18, 18, 18, 18, 18, 18, 18, 18, 18, 18,\n",
       "       18, 18, 18, 18, 18, 18, 18, 18, 18, 18, 23, 18, 18, 18, 18, 18, 18,\n",
       "       18, 18, 18, 18, 83, 83, 83, 83, 83, 83, 83, 73, 73, 18, 84, 73, 19,\n",
       "       19, 19, 19, 18, 18, 18, 18, 18, 19, 17, 17, 19, 53, 53, 63, 77, 23,\n",
       "       18, 73, 93, 93, 63])"
      ]
     },
     "metadata": {},
     "execution_count": 38
    }
   ],
   "source": [
    "classes"
   ]
  },
  {
   "cell_type": "code",
   "execution_count": null,
   "metadata": {},
   "outputs": [],
   "source": []
  }
 ]
}