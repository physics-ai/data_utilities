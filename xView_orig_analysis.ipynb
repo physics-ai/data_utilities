{
 "cells": [
  {
   "cell_type": "code",
   "execution_count": 1,
   "metadata": {
    "collapsed": true
   },
   "outputs": [],
   "source": [
    "import aug_util as aug\n",
    "import wv_util as wv\n",
    "import matplotlib.pyplot as plt\n",
    "import numpy as np\n",
    "import csv\n",
    "%matplotlib inline"
   ]
  },
  {
   "cell_type": "code",
   "execution_count": 2,
   "metadata": {},
   "outputs": [
    {
     "output_type": "stream",
     "name": "stderr",
     "text": [
      "100%|██████████| 601937/601937 [00:02<00:00, 222581.58it/s]\n"
     ]
    }
   ],
   "source": [
    "coords, chips, classes = wv.get_labels(\"/home/physicsai/sim2real/data/xview/Xview_train.geojson\")"
   ]
  },
  {
   "cell_type": "code",
   "execution_count": 10,
   "metadata": {},
   "outputs": [
    {
     "output_type": "stream",
     "name": "stdout",
     "text": [
      "There are 718 cargo planes in the xView training set.\n"
     ]
    }
   ],
   "source": [
    "print(\"There are {} cargo planes in the xView training set.\".format(np.sum(classes==13)))"
   ]
  },
  {
   "cell_type": "code",
   "execution_count": null,
   "metadata": {},
   "outputs": [],
   "source": []
  }
 ],
 "metadata": {
  "kernelspec": {
   "display_name": "Python 3.5.2 64-bit ('venv_xview_data_utilities': venv)",
   "language": "python",
   "name": "python35264bitvenvxviewdatautilitiesvenv45e743a9144e4fb1b4447d0a50955977"
  },
  "language_info": {
   "codemirror_mode": {
    "name": "ipython",
    "version": 3
   },
   "file_extension": ".py",
   "mimetype": "text/x-python",
   "name": "python",
   "nbconvert_exporter": "python",
   "pygments_lexer": "ipython3",
   "version": "3.5.2-final"
  }
 },
 "nbformat": 4,
 "nbformat_minor": 2
}