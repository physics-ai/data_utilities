{
 "cells": [
  {
   "cell_type": "code",
   "execution_count": 2,
   "metadata": {
    "collapsed": true
   },
   "outputs": [],
   "source": [
    "import aug_util as aug\n",
    "import wv_util as wv\n",
    "import matplotlib.pyplot as plt\n",
    "import numpy as np\n",
    "import csv\n",
    "%matplotlib inline"
   ]
  },
  {
   "cell_type": "code",
   "execution_count": 3,
   "metadata": {},
   "outputs": [
    {
     "output_type": "stream",
     "name": "stderr",
     "text": [
      "100%|██████████| 601937/601937 [00:02<00:00, 238714.40it/s]\n"
     ]
    }
   ],
   "source": [
    "coords, chips, classes = wv.get_labels(\"/home/physicsai/sim2real/data/xview/Xview_train.geojson\")"
   ]
  },
  {
   "cell_type": "code",
   "execution_count": 4,
   "metadata": {},
   "outputs": [
    {
     "output_type": "stream",
     "name": "stdout",
     "text": [
      "There are 718 cargo planes in the xView training set.\nThere are 368 'small aircraft' in the xView training set.\nThere are 74 'fixed-wing aircraft' in the xView training set.\n"
     ]
    }
   ],
   "source": [
    "print(\"There are {} cargo planes in the xView training set.\".format(np.sum(classes==13)))\n",
    "print(\"There are {} 'small aircraft' in the xView training set.\".format(np.sum(classes==12)))\n",
    "print(\"There are {} 'fixed-wing aircraft' in the xView training set.\".format(np.sum(classes==11)))"
   ]
  },
  {
   "cell_type": "code",
   "execution_count": 5,
   "metadata": {},
   "outputs": [
    {
     "output_type": "execute_result",
     "data": {
      "text/plain": [
       "array([73., 73., 73., ..., 73., 73., 73.])"
      ]
     },
     "metadata": {},
     "execution_count": 5
    }
   ],
   "source": [
    "classes"
   ]
  },
  {
   "cell_type": "code",
   "execution_count": 9,
   "metadata": {},
   "outputs": [
    {
     "output_type": "stream",
     "name": "stdout",
     "text": [
      "There are 119 tif files that contain a cargo plane in the xView training set.\n"
     ]
    }
   ],
   "source": [
    "# how many tif images have a cargo plane? \n",
    "num_images = 0\n",
    "tifs_with_cargo_planes = []\n",
    "for imgname in np.unique(chips):\n",
    "    img_classes = classes[chips==imgname]\n",
    "    if np.sum(img_classes==13)>0:\n",
    "        num_images += 1\n",
    "        tifs_with_cargo_planes.append(imgname)\n",
    "\n",
    "print(\"There are {} tif files that contain a cargo plane in the xView training set.\".format(num_images))"
   ]
  },
  {
   "cell_type": "code",
   "execution_count": 10,
   "metadata": {},
   "outputs": [
    {
     "output_type": "execute_result",
     "data": {
      "text/plain": [
       "['1052.tif',\n",
       " '1053.tif',\n",
       " '1076.tif',\n",
       " '1085.tif',\n",
       " '1086.tif',\n",
       " '1087.tif',\n",
       " '1094.tif',\n",
       " '1095.tif',\n",
       " '1104.tif',\n",
       " '1114.tif',\n",
       " '1125.tif',\n",
       " '1127.tif',\n",
       " '1139.tif',\n",
       " '1141.tif',\n",
       " '1154.tif',\n",
       " '1164.tif',\n",
       " '1165.tif',\n",
       " '130.tif',\n",
       " '1362.tif',\n",
       " '145.tif',\n",
       " '1460.tif',\n",
       " '1466.tif',\n",
       " '1565.tif',\n",
       " '1568.tif',\n",
       " '157.tif',\n",
       " '1587.tif',\n",
       " '1590.tif',\n",
       " '1593.tif',\n",
       " '1610.tif',\n",
       " '1653.tif',\n",
       " '1675.tif',\n",
       " '1677.tif',\n",
       " '1679.tif',\n",
       " '1690.tif',\n",
       " '1692.tif',\n",
       " '1702.tif',\n",
       " '1703.tif',\n",
       " '1817.tif',\n",
       " '1838.tif',\n",
       " '1841.tif',\n",
       " '1875.tif',\n",
       " '1883.tif',\n",
       " '1886.tif',\n",
       " '1897.tif',\n",
       " '1898.tif',\n",
       " '1899.tif',\n",
       " '1945.tif',\n",
       " '1980.tif',\n",
       " '203.tif',\n",
       " '2064.tif',\n",
       " '2072.tif',\n",
       " '2114.tif',\n",
       " '2122.tif',\n",
       " '2131.tif',\n",
       " '2139.tif',\n",
       " '2142.tif',\n",
       " '2145.tif',\n",
       " '216.tif',\n",
       " '2160.tif',\n",
       " '2168.tif',\n",
       " '2179.tif',\n",
       " '2181.tif',\n",
       " '2193.tif',\n",
       " '2214.tif',\n",
       " '2215.tif',\n",
       " '2230.tif',\n",
       " '2239.tif',\n",
       " '2250.tif',\n",
       " '2251.tif',\n",
       " '2308.tif',\n",
       " '2309.tif',\n",
       " '2313.tif',\n",
       " '2314.tif',\n",
       " '2315.tif',\n",
       " '2341.tif',\n",
       " '2370.tif',\n",
       " '2371.tif',\n",
       " '2386.tif',\n",
       " '2391.tif',\n",
       " '2399.tif',\n",
       " '2489.tif',\n",
       " '2498.tif',\n",
       " '2503.tif',\n",
       " '2510.tif',\n",
       " '2513.tif',\n",
       " '2514.tif',\n",
       " '2516.tif',\n",
       " '2518.tif',\n",
       " '2520.tif',\n",
       " '2523.tif',\n",
       " '2524.tif',\n",
       " '2530.tif',\n",
       " '2531.tif',\n",
       " '2532.tif',\n",
       " '294.tif',\n",
       " '295.tif',\n",
       " '302.tif',\n",
       " '303.tif',\n",
       " '310.tif',\n",
       " '311.tif',\n",
       " '345.tif',\n",
       " '525.tif',\n",
       " '546.tif',\n",
       " '548.tif',\n",
       " '562.tif',\n",
       " '587.tif',\n",
       " '600.tif',\n",
       " '716.tif',\n",
       " '79.tif',\n",
       " '80.tif',\n",
       " '805.tif',\n",
       " '807.tif',\n",
       " '825.tif',\n",
       " '847.tif',\n",
       " '86.tif',\n",
       " '862.tif',\n",
       " '88.tif',\n",
       " '92.tif',\n",
       " '983.tif']"
      ]
     },
     "metadata": {},
     "execution_count": 10
    }
   ],
   "source": [
    "tifs_with_cargo_planes"
   ]
  },
  {
   "cell_type": "code",
   "execution_count": null,
   "metadata": {},
   "outputs": [],
   "source": []
  }
 ],
 "metadata": {
  "kernelspec": {
   "display_name": "Python 3.5.2 64-bit ('venv_xview_data_utilities': venv)",
   "language": "python",
   "name": "python35264bitvenvxviewdatautilitiesvenv45e743a9144e4fb1b4447d0a50955977"
  },
  "language_info": {
   "codemirror_mode": {
    "name": "ipython",
    "version": 3
   },
   "file_extension": ".py",
   "mimetype": "text/x-python",
   "name": "python",
   "nbconvert_exporter": "python",
   "pygments_lexer": "ipython3",
   "version": "3.5.2-final"
  }
 },
 "nbformat": 4,
 "nbformat_minor": 2
}