{
 "cells": [
  {
   "cell_type": "code",
   "execution_count": 1,
   "metadata": {
    "collapsed": true
   },
   "outputs": [],
   "source": [
    "import aug_util as aug\n",
    "import wv_util as wv\n",
    "import matplotlib.pyplot as plt\n",
    "import numpy as np\n",
    "import csv\n",
    "%matplotlib inline"
   ]
  },
  {
   "cell_type": "code",
   "execution_count": 2,
   "metadata": {},
   "outputs": [
    {
     "output_type": "stream",
     "name": "stderr",
     "text": [
      "100%|██████████| 601937/601937 [00:02<00:00, 228924.59it/s]\n"
     ]
    }
   ],
   "source": [
    "coords, chips, classes = wv.get_labels(\"/home/physicsai/sim2real/data/xview/Xview_train.geojson\")"
   ]
  },
  {
   "source": [
    "### Airplanes"
   ],
   "cell_type": "markdown",
   "metadata": {}
  },
  {
   "cell_type": "code",
   "execution_count": 7,
   "metadata": {},
   "outputs": [
    {
     "output_type": "stream",
     "name": "stdout",
     "text": [
      "There are 718 cargo planes in the xView training set.\n",
      "There are 119 tif files that contain a cargo planes in the xView training set.\n",
      "There are 368 small aircraft in the xView training set.\n",
      "There are 57 tif files that contain a small aircraft in the xView training set.\n",
      "There are 74 fixed-wing aircraft in the xView training set.\n",
      "There are 29 tif files that contain a fixed-wing aircraft in the xView training set.\n"
     ]
    }
   ],
   "source": [
    "def get_stats_on_class(class_num, class_name, classes):\n",
    "    print(\"There are {} {} in the xView training set.\".format(np.sum(classes==class_num), class_name))\n",
    "\n",
    "    # how many tif images have a cargo plane? \n",
    "    num_images = 0\n",
    "    tifs_with_object = []\n",
    "    for imgname in np.unique(chips):\n",
    "        img_classes = classes[chips==imgname]\n",
    "        if np.sum(img_classes==class_num)>0:\n",
    "            num_images += 1\n",
    "            tifs_with_object.append(imgname)\n",
    "\n",
    "    print(\"There are {} tif files that contain a {} in the xView training set.\".format(num_images, class_name))\n",
    "\n",
    "get_stats_on_class(class_num=13, class_name=\"cargo planes\", classes=classes)\n",
    "get_stats_on_class(class_num=12, class_name=\"small aircraft\", classes=classes)\n",
    "get_stats_on_class(class_num=11, class_name=\"fixed-wing aircraft\", classes=classes)"
   ]
  },
  {
   "source": [
    "### Ships"
   ],
   "cell_type": "markdown",
   "metadata": {}
  },
  {
   "cell_type": "code",
   "execution_count": 9,
   "metadata": {},
   "outputs": [
    {
     "output_type": "stream",
     "name": "stdout",
     "text": [
      "There are 689 MaritimeVessels in the xView training set.\n",
      "There are 89 tif files that contain a MaritimeVessels in the xView training set.\n",
      "There are 1463 Motorboat in the xView training set.\n",
      "There are 102 tif files that contain a Motorboat in the xView training set.\n",
      "There are 450 Yachts in the xView training set.\n",
      "There are 33 tif files that contain a Yachts in the xView training set.\n",
      "There are 332 Container Ships in the xView training set.\n",
      "There are 67 tif files that contain a Container Ships in the xView training set.\n"
     ]
    }
   ],
   "source": [
    "get_stats_on_class(class_num=40, class_name=\"MaritimeVessels\", classes=classes)\n",
    "get_stats_on_class(class_num=41, class_name=\"Motorboats\", classes=classes)\n",
    "get_stats_on_class(class_num=50, class_name=\"Yachts\", classes=classes)\n",
    "get_stats_on_class(class_num=51, class_name=\"Container Ships\", classes=classes)"
   ]
  },
  {
   "cell_type": "code",
   "execution_count": 13,
   "metadata": {},
   "outputs": [
    {
     "output_type": "stream",
     "name": "stderr",
     "text": [
      "/home/physicsai/venv_xview_data_utilities/lib/python3.5/site-packages/ipykernel_launcher.py:2: DeprecationWarning: elementwise comparison failed; this will raise an error in the future.\n",
      "  \n",
      "There are 0 MaritimeVessels, Yachts, and Container Ships in the xView training set.\n",
      "There are 111 tif files that contain a MaritimeVessels, Yachts, and Container Ships in the xView training set.\n"
     ]
    }
   ],
   "source": [
    "def get_stats_on_class_vec(class_num, class_name, classes):\n",
    "    print(\"There are {} {} in the xView training set.\".format(np.sum(classes==class_num), class_name))\n",
    "\n",
    "    # how many tif images have a cargo plane? \n",
    "    num_images = 0\n",
    "    tifs_with_object = []\n",
    "    for imgname in np.unique(chips):\n",
    "        img_classes = classes[chips==imgname]\n",
    "        add_img = False\n",
    "        for cn in class_num:\n",
    "            if np.sum(img_classes == cn) > 0:\n",
    "                add_img = True\n",
    "        if add_img:\n",
    "            num_images += 1\n",
    "            tifs_with_object.append(imgname)\n",
    "\n",
    "    print(\"There are {} tif files that contain a {} in the xView training set.\".format(num_images, class_name))\n",
    "\n",
    "get_stats_on_class_vec(class_num=[40,50,51], class_name=\"MaritimeVessels, Yachts, and Container Ships\", classes=classes)"
   ]
  },
  {
   "cell_type": "code",
   "execution_count": null,
   "metadata": {},
   "outputs": [],
   "source": []
  }
 ],
 "metadata": {
  "kernelspec": {
   "display_name": "Python 3.5.2 64-bit ('venv_xview_data_utilities': venv)",
   "language": "python",
   "name": "python35264bitvenvxviewdatautilitiesvenv45e743a9144e4fb1b4447d0a50955977"
  },
  "language_info": {
   "codemirror_mode": {
    "name": "ipython",
    "version": 3
   },
   "file_extension": ".py",
   "mimetype": "text/x-python",
   "name": "python",
   "nbconvert_exporter": "python",
   "pygments_lexer": "ipython3",
   "version": "3.5.2-final"
  }
 },
 "nbformat": 4,
 "nbformat_minor": 2
}